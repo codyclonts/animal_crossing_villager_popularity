{
 "cells": [
  {
   "cell_type": "markdown",
   "id": "1e223f42",
   "metadata": {},
   "source": [
    "# ideas notebook"
   ]
  },
  {
   "cell_type": "code",
   "execution_count": null,
   "id": "c45961af",
   "metadata": {},
   "outputs": [],
   "source": [
    "- import the characters list from villagers acnh csv file\n",
    "- import the popularity tier list from animal crossing website\n",
    "- only 391 of the characters are accounted for in csv file while there are a little over 400 in the popularity tier list\n",
    "- join the tables using left/right join so we don't lose the characters\n",
    "- target variable will be popularity score \n",
    "- look at the gender, species, style, and personality \n"
   ]
  }
 ],
 "metadata": {
  "kernelspec": {
   "display_name": "Python 3 (ipykernel)",
   "language": "python",
   "name": "python3"
  },
  "language_info": {
   "codemirror_mode": {
    "name": "ipython",
    "version": 3
   },
   "file_extension": ".py",
   "mimetype": "text/x-python",
   "name": "python",
   "nbconvert_exporter": "python",
   "pygments_lexer": "ipython3",
   "version": "3.9.7"
  }
 },
 "nbformat": 4,
 "nbformat_minor": 5
}
